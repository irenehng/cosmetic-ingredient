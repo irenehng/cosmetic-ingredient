{
 "cells": [
  {
   "cell_type": "code",
   "execution_count": 21,
   "metadata": {},
   "outputs": [],
   "source": [
    "import cv2\n",
    "import easyocr\n",
    "import matplotlib.pyplot as plt\n",
    "import pandas as pd\n",
    "from sklearn.feature_extraction.text import TfidfVectorizer\n",
    "from sklearn.metrics.pairwise import cosine_similarity"
   ]
  },
  {
   "cell_type": "code",
   "execution_count": 17,
   "metadata": {},
   "outputs": [],
   "source": [
    "#read image\n",
    "image_path = \"./label.jpg\"\n",
    "\n",
    "img = cv2.imread(image_path)"
   ]
  },
  {
   "cell_type": "code",
   "execution_count": 13,
   "metadata": {},
   "outputs": [
    {
     "name": "stderr",
     "output_type": "stream",
     "text": [
      "Using CPU. Note: This module is much faster with a GPU.\n"
     ]
    }
   ],
   "source": [
    "#create instance of text detector\n",
    "reader = easyocr.Reader(['en'],gpu=False)"
   ]
  },
  {
   "cell_type": "code",
   "execution_count": 18,
   "metadata": {},
   "outputs": [],
   "source": [
    "#detect text\n",
    "text = reader.readtext(img)"
   ]
  },
  {
   "cell_type": "code",
   "execution_count": 19,
   "metadata": {},
   "outputs": [
    {
     "name": "stdout",
     "output_type": "stream",
     "text": [
      "([[109, 2], [200, 2], [200, 26], [109, 26]], 'INGREDIENTS', 0.9994021869896096)\n",
      "([[27, 19], [187, 19], [187, 37], [27, 37]], 'Aqua; Sodium laureth sulfate;', 0.6422732897808272)\n",
      "([[14, 30], [263, 30], [263, 57], [14, 57]], 'betsoediGtezeaie Sodnmm chloride Cocamideo', 0.2575217950879675)\n",
      "([[5, 43], [105, 43], [105, 59], [5, 59]], 'FEG-150 distearate;', 0.7686691797487559)\n",
      "([[105, 43], [264, 43], [264, 68], [105, 68]], \"Phenoxyethanoi' Bis (C13-15'\", 0.3930430490040013)\n",
      "([[24, 54], [257, 54], [257, 83], [24, 83]], 'Proayiodrabeenicone Parfun . Methyipara', 0.22789862812499137)\n",
      "([[265, 54], [298, 54], [298, 72], [265, 72]], 'alkoxy)', 0.9017024900185343)\n",
      "([[27, 66], [278, 66], [278, 94], [27, 94]], 'Prpevo? Faben Cocos nucitera (coconataoin;', 0.2295429188033351)\n",
      "([[15, 81], [181, 81], [181, 101], [15, 101]], 'Panthenol Polyquaternium-10,', 0.7659998937509717)\n",
      "([[7, 93], [77, 93], [77, 109], [7, 109]], 'dulcis (sweet', 0.802435686431489)\n",
      "([[83, 97], [219, 97], [219, 118], [83, 118]], 'Imond) oil, Tetradibutyl', 0.7801486841115445)\n",
      "([[225, 91], [285, 91], [285, 107], [225, 107]], 'amygdalus', 0.9985246778648148)\n",
      "([[12, 99], [295, 99], [295, 135], [12, 135]], 'hydrdetrarreronerote Ceradibalymnedierist', 0.042063869755008546)\n",
      "([[18, 118], [277, 118], [277, 161], [18, 161]], 'PoyGeazerriunt 3G,Cricto 5 icotols', 0.0015926337576355786)\n",
      "([[97, 149], [199, 149], [199, 169], [97, 169]], 'Sodium benzoate', 0.9997311669847955)\n",
      "([[189.23652010216108, 15.09877638821206], [285.98385522667235, 31.68918174722163], [279.7634798978389, 58.90122361178794], [184.01614477332765, 42.31081825277837]], 'CoczocidoretE', 0.10630317000057703)\n",
      "([[183.06850713433477, 84.23016355523603], [228.96912501557182, 91.649933330565], [225.93149286566523, 106.76983644476397], [180.03087498442818, 100.350066669435]], 'Prunus =', 0.31213168175121847)\n"
     ]
    }
   ],
   "source": [
    "for t in text:\n",
    "  print(t)"
   ]
  },
  {
   "cell_type": "code",
   "execution_count": 22,
   "metadata": {},
   "outputs": [],
   "source": [
    "ingredients = pd.read_csv(\"ingredient-function.csv\")"
   ]
  },
  {
   "cell_type": "code",
   "execution_count": 24,
   "metadata": {},
   "outputs": [],
   "source": [
    "vectorizer = TfidfVectorizer()\n",
    "tfidf_matrix = vectorizer.fit_transform(ingredients[\"Ingredient\"])"
   ]
  },
  {
   "cell_type": "code",
   "execution_count": null,
   "metadata": {},
   "outputs": [],
   "source": []
  }
 ],
 "metadata": {
  "kernelspec": {
   "display_name": "base",
   "language": "python",
   "name": "python3"
  },
  "language_info": {
   "codemirror_mode": {
    "name": "ipython",
    "version": 3
   },
   "file_extension": ".py",
   "mimetype": "text/x-python",
   "name": "python",
   "nbconvert_exporter": "python",
   "pygments_lexer": "ipython3",
   "version": "3.10.10"
  },
  "orig_nbformat": 4
 },
 "nbformat": 4,
 "nbformat_minor": 2
}
