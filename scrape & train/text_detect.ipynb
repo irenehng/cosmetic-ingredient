{
 "cells": [
  {
   "cell_type": "code",
   "execution_count": 182,
   "metadata": {},
   "outputs": [],
   "source": [
    "import cv2\n",
    "import easyocr\n",
    "import matplotlib.pyplot as plt\n",
    "import pandas as pd\n",
    "from sklearn.feature_extraction.text import TfidfVectorizer, CountVectorizer\n",
    "from sklearn.metrics.pairwise import cosine_similarity\n",
    "import re\n",
    "import plotly.express as px\n",
    "from joblib import dump, load"
   ]
  },
  {
   "cell_type": "code",
   "execution_count": 144,
   "metadata": {},
   "outputs": [],
   "source": [
    "#read image\n",
    "image_path = \"./label2.jpg\"\n",
    "\n",
    "img = cv2.imread(image_path)"
   ]
  },
  {
   "cell_type": "code",
   "execution_count": 145,
   "metadata": {},
   "outputs": [
    {
     "name": "stderr",
     "output_type": "stream",
     "text": [
      "Using CPU. Note: This module is much faster with a GPU.\n"
     ]
    }
   ],
   "source": [
    "#create instance of text detector\n",
    "reader = easyocr.Reader(['en'],gpu=False)"
   ]
  },
  {
   "cell_type": "code",
   "execution_count": 151,
   "metadata": {},
   "outputs": [],
   "source": [
    "#detect text\n",
    "text = reader.readtext(img)"
   ]
  },
  {
   "cell_type": "code",
   "execution_count": 188,
   "metadata": {},
   "outputs": [
    {
     "data": {
      "text/plain": [
       "['ingredientshingredients : waterzeau, dimethicone, glycerin',\n",
       " 'tapioca starch; dimethicone crosspolymer; retinol, retinyl',\n",
       " 'propionate, niacinamide*; palmitoyl pentapeptide-4**',\n",
       " 'polyacrylamide, c13-14 isoparaffin , dmdm hydantoin,',\n",
       " 'polysorbate 20, laureth-4,acrylatesicio-30 alkyl acrylate',\n",
       " 'crosspolymer, laureth-7 , dimethiconol,',\n",
       " 'polymethylsilsesquioxane, aminomethyl propanol, titanium',\n",
       " 'dioxide, disodium edta iodopropvnyl butylcarbamate']"
      ]
     },
     "execution_count": 188,
     "metadata": {},
     "output_type": "execute_result"
    }
   ],
   "source": [
    "user_ingredients = []\n",
    "for t in text:\n",
    "  user_ingredients.append(t[1])\n",
    "user_ingredients = [i.lower() for i in user_ingredients]\n",
    "user_ingredients"
   ]
  },
  {
   "cell_type": "code",
   "execution_count": 191,
   "metadata": {},
   "outputs": [
    {
     "data": {
      "text/plain": [
       "['ingredientshingredients ',\n",
       " ' waterzeau',\n",
       " ' dimethicone',\n",
       " ' glycerin tapioca starch',\n",
       " ' dimethicone crosspolymer',\n",
       " ' retinol',\n",
       " ' retinyl propionate',\n",
       " ' niacinamide*',\n",
       " ' palmitoyl pentapeptide-4** polyacrylamide',\n",
       " ' c13-14 isoparaffin ',\n",
       " ' dmdm hydantoin',\n",
       " ' polysorbate 20',\n",
       " ' laureth-4',\n",
       " 'acrylatesicio-30 alkyl acrylate crosspolymer',\n",
       " ' laureth-7 ',\n",
       " ' dimethiconol',\n",
       " ' polymethylsilsesquioxane',\n",
       " ' aminomethyl propanol',\n",
       " ' titanium dioxide',\n",
       " ' disodium edta iodopropvnyl butylcarbamate']"
      ]
     },
     "execution_count": 191,
     "metadata": {},
     "output_type": "execute_result"
    }
   ],
   "source": [
    "str = \" \".join(user_ingredients)\n",
    "result = re.split(r\"[,:;]\", str)\n",
    "result"
   ]
  },
  {
   "cell_type": "code",
   "execution_count": null,
   "metadata": {},
   "outputs": [],
   "source": []
  },
  {
   "cell_type": "code",
   "execution_count": 183,
   "metadata": {},
   "outputs": [],
   "source": [
    "ingredients = pd.read_csv(\"ingredients.csv\")"
   ]
  },
  {
   "cell_type": "code",
   "execution_count": 192,
   "metadata": {},
   "outputs": [
    {
     "data": {
      "text/plain": [
       "['tfidf_matrix.joblib']"
      ]
     },
     "execution_count": 192,
     "metadata": {},
     "output_type": "execute_result"
    }
   ],
   "source": [
    "vectorizer = TfidfVectorizer(ngram_range=(1,2))\n",
    "tfidf_matrix = vectorizer.fit_transform(ingredients[\"Ingredient\"])\n",
    "dump(vectorizer,'vectorizer.joblib')\n",
    "dump(tfidf_matrix,'tfidf_matrix.joblib')"
   ]
  },
  {
   "cell_type": "code",
   "execution_count": 194,
   "metadata": {},
   "outputs": [],
   "source": [
    "user_vectors = vectorizer.transform(result)\n",
    "similarity_scores = cosine_similarity(user_vectors,tfidf_matrix)\n",
    "most_similar_indices = similarity_scores.argmax(axis=1)\n",
    "matching_ingredients = ingredients.iloc[most_similar_indices][\"Ingredient\"].tolist()\n",
    "final_ing = set(matching_ingredients)"
   ]
  },
  {
   "cell_type": "code",
   "execution_count": 195,
   "metadata": {},
   "outputs": [
    {
     "data": {
      "text/plain": [
       "{'acrylates/c10-30 alkyl acrylate crosspolymer',\n",
       " 'aminomethyl propanol',\n",
       " 'c13-14 isoparaffin',\n",
       " 'dimethicone',\n",
       " 'dimethicone crosspolymer',\n",
       " 'dimethiconol',\n",
       " 'disodium edta',\n",
       " 'dmdm hydantoin',\n",
       " 'laureth-4',\n",
       " 'niacinamide',\n",
       " 'palmitoyl pentapeptide-4',\n",
       " 'polymethylsilsesquioxane',\n",
       " 'polysorbate 20',\n",
       " 'retinol',\n",
       " 'retinyl propionate',\n",
       " 'secale cereale seed extract',\n",
       " 'tapioca starch',\n",
       " 'titanium dioxide'}"
      ]
     },
     "execution_count": 195,
     "metadata": {},
     "output_type": "execute_result"
    }
   ],
   "source": [
    "final_ing"
   ]
  },
  {
   "cell_type": "code",
   "execution_count": 177,
   "metadata": {},
   "outputs": [
    {
     "data": {
      "text/plain": [
       "0        Cleansing and Exfoliating\n",
       "1        Cleansing and Exfoliating\n",
       "2        Cleansing and Exfoliating\n",
       "3        Cleansing and Exfoliating\n",
       "4        Cleansing and Exfoliating\n",
       "                   ...            \n",
       "50562     pH Balance and Stability\n",
       "50563     pH Balance and Stability\n",
       "50564     pH Balance and Stability\n",
       "50565     pH Balance and Stability\n",
       "50566     pH Balance and Stability\n",
       "Name: Group, Length: 50567, dtype: object"
      ]
     },
     "execution_count": 177,
     "metadata": {},
     "output_type": "execute_result"
    }
   ],
   "source": [
    "ingredients[\"Group\"]"
   ]
  },
  {
   "cell_type": "code",
   "execution_count": 172,
   "metadata": {},
   "outputs": [],
   "source": [
    "function_to_group = {\n",
    "    'abrasive': 'Cleansing and Exfoliating',\n",
    "    'absorbent': 'Oil and Sebum Control',\n",
    "    'adhesive': 'Structural Enhancement',\n",
    "    'anti-seborrheic': 'Oil and Sebum Control',\n",
    "    'anti-sebum': 'Oil and Sebum Control',\n",
    "    'anticaking': 'Product Texture Enhancement',\n",
    "    'anticorrosive': 'Preservation and Stability',\n",
    "    'antifoaming': 'Product Texture Enhancement',\n",
    "    'antimicrobial': 'Skin Protection and Purification',\n",
    "    'antioxidant': 'Skin Protection and Vitality',\n",
    "    'antiperspirant': 'Sweat and Odor Control',\n",
    "    'antiplaque': 'Oral Care',\n",
    "    'antistatic': 'Frizz Control and Manageability',\n",
    "    'astringent': 'Skin Pore Tightening',\n",
    "    'binding': 'Product Integrity and Cohesion',\n",
    "    'bleaching': 'Skin Brightening and Lightening',\n",
    "    'buffering': 'pH Balance and Stability',\n",
    "    'bulking': 'Product Volume and Fullness',\n",
    "    'chelating': 'Metal Ion Control',\n",
    "    'cleansing': 'Gentle Cleansing',\n",
    "    'colorant': 'Color Enhancement and Pigmentation',\n",
    "    'denaturant': 'Preservation and Stability',\n",
    "    'deodorant': 'Odor Control',\n",
    "    'depilatory': 'Hair Removal',\n",
    "    'detangling': 'Hair Detangling',\n",
    "    'dispersing non-surfactant': 'Product Dispersion Enhancement',\n",
    "    'emulsion stabilising': 'Product Stability and Emulsification',\n",
    "    'epilating': 'Hair Removal',\n",
    "    'exfoliating': 'Gentle Exfoliation',\n",
    "    'eyelash conditioning': 'Eyelash Care',\n",
    "    'film forming': 'Skin Barrier Protection',\n",
    "    'foaming': 'Rich Foaming',\n",
    "    'fragrance': 'Scent and Sensory Experience',\n",
    "    'gel forming': 'Gel Formation and Texture',\n",
    "    'hair conditioning': 'Hair Nourishment and Conditioning',\n",
    "    'hair dyeing': 'Hair Coloration',\n",
    "    'hair fixing': 'Hair Styling and Fixation',\n",
    "    'hair waving or straightening': 'Hair Texture Transformation',\n",
    "    'humectant': 'Moisture Retention and Hydration',\n",
    "    'keratolytic': 'Skin Exfoliation',\n",
    "    'light stabilizer': 'UV Protection and Light Stability',\n",
    "    'lytic': 'Skin Purification',\n",
    "    'moisturising': 'Intensive Hydration',\n",
    "    'nail conditioning': 'Nail Care and Conditioning',\n",
    "    'nail sculpting': 'Nail Sculpting and Enhancement',\n",
    "    'not reported': 'Other Functions',\n",
    "    'opacifying': 'Opacity Enhancement',\n",
    "    'oral care': 'Oral Hygiene',\n",
    "    'oxidising': 'Product Oxidation Control',\n",
    "    'pearlescent': 'Luminosity Enhancement',\n",
    "    'perfuming': 'Fragrance and Sensory Experience',\n",
    "    'plasticiser': 'Product Flexibility and Plasticity',\n",
    "    'preservative': 'Product Preservation',\n",
    "    'propellant': 'Product Dispensing',\n",
    "    'reducing': 'Product Stability and Reduction',\n",
    "    'refatting': 'Skin Nourishment and Moisturization',\n",
    "    'refreshing': 'Skin Refreshment and Vitality',\n",
    "    'skin conditioning': 'Skin Nourishment and Conditioning',\n",
    "    'skin conditioning - emollient': 'Skin Emollience and Softening',\n",
    "    'skin conditioning - humectant': 'Skin Hydration and Moisture Retention',\n",
    "    'skin conditioning - occlusive': 'Skin Barrier Protection and Moisture Lock',\n",
    "    'skin conditioning - miscellaneous': 'Skin Nourishment and Miscellaneous',\n",
    "    'skin protecting': 'Skin Protection and Cleansing',\n",
    "    'slip modifier': 'Product Spreadability and Slip',\n",
    "    'smoothing': 'Skin Smoothing and Texture Refinement',\n",
    "    'solvent': 'Product Solubility and Dissolution',\n",
    "    'soothing': 'Skin Soothing and Calming',\n",
    "    'surface modifier': 'Product Surface Modification',\n",
    "    'surfactant - cleansing': 'Gentle Cleansing',\n",
    "    'surfactant - dispersing': 'Product Dispersion Enhancement',\n",
    "    'surfactant - emulsifying': 'Emulsion Formation and Stability',\n",
    "    'surfactant - foam boosting': 'Rich Foaming',\n",
    "    'surfactant - hydrotrope': 'Product Solubilization and Dispersion',\n",
    "    'surfactant - solubilizing': 'Product Solubilization and Dispersion',\n",
    "    'tanning': 'Skin Tanning and Glow',\n",
    "    'tonic': 'Skin Toning and Refreshment',\n",
    "    'uv absorber': 'UV Protection and Absorption',\n",
    "    'uv filter': 'UV Protection and Filtering',\n",
    "    'viscosity controlling': 'Product Viscosity Control',\n",
    "    'ph adjusters': 'pH Balance and Stability',\n",
    "}"
   ]
  },
  {
   "cell_type": "code",
   "execution_count": 178,
   "metadata": {},
   "outputs": [],
   "source": [
    "def calc_proportions(lst):\n",
    "    total = len(lst)\n",
    "    groups = [function_to_group[ingredients.loc[ingredients[\"Ingredient\"] == i, \"Function\"].values[0]] for i in lst]\n",
    "    freqs = {}\n",
    "    for g in groups:\n",
    "        if g not in freqs:\n",
    "            freqs[g] = 1\n",
    "        else:\n",
    "            freqs[g]+=1\n",
    "    res_dict = {key:round(value/total,2)for key,value in freqs.items()}\n",
    "    res = {\"Function\":list(res_dict.keys()),\"Proportion\":list(res_dict.values())}\n",
    "    final = pd.DataFrame(res).sort_values(\"Proportion\",ascending=False)\n",
    "    return final"
   ]
  },
  {
   "cell_type": "code",
   "execution_count": 179,
   "metadata": {},
   "outputs": [
    {
     "data": {
      "text/html": [
       "<div>\n",
       "<style scoped>\n",
       "    .dataframe tbody tr th:only-of-type {\n",
       "        vertical-align: middle;\n",
       "    }\n",
       "\n",
       "    .dataframe tbody tr th {\n",
       "        vertical-align: top;\n",
       "    }\n",
       "\n",
       "    .dataframe thead th {\n",
       "        text-align: right;\n",
       "    }\n",
       "</style>\n",
       "<table border=\"1\" class=\"dataframe\">\n",
       "  <thead>\n",
       "    <tr style=\"text-align: right;\">\n",
       "      <th></th>\n",
       "      <th>Function</th>\n",
       "      <th>Proportion</th>\n",
       "    </tr>\n",
       "  </thead>\n",
       "  <tbody>\n",
       "    <tr>\n",
       "      <th>7</th>\n",
       "      <td>Skin Nourishment and Conditioning</td>\n",
       "      <td>0.17</td>\n",
       "    </tr>\n",
       "    <tr>\n",
       "      <th>0</th>\n",
       "      <td>Product Texture Enhancement</td>\n",
       "      <td>0.11</td>\n",
       "    </tr>\n",
       "    <tr>\n",
       "      <th>12</th>\n",
       "      <td>Product Stability and Emulsification</td>\n",
       "      <td>0.11</td>\n",
       "    </tr>\n",
       "    <tr>\n",
       "      <th>1</th>\n",
       "      <td>Gentle Cleansing</td>\n",
       "      <td>0.06</td>\n",
       "    </tr>\n",
       "    <tr>\n",
       "      <th>2</th>\n",
       "      <td>Metal Ion Control</td>\n",
       "      <td>0.06</td>\n",
       "    </tr>\n",
       "    <tr>\n",
       "      <th>3</th>\n",
       "      <td>Color Enhancement and Pigmentation</td>\n",
       "      <td>0.06</td>\n",
       "    </tr>\n",
       "    <tr>\n",
       "      <th>4</th>\n",
       "      <td>Opacity Enhancement</td>\n",
       "      <td>0.06</td>\n",
       "    </tr>\n",
       "    <tr>\n",
       "      <th>5</th>\n",
       "      <td>Cleansing and Exfoliating</td>\n",
       "      <td>0.06</td>\n",
       "    </tr>\n",
       "    <tr>\n",
       "      <th>6</th>\n",
       "      <td>pH Balance and Stability</td>\n",
       "      <td>0.06</td>\n",
       "    </tr>\n",
       "    <tr>\n",
       "      <th>8</th>\n",
       "      <td>Skin Smoothing and Texture Refinement</td>\n",
       "      <td>0.06</td>\n",
       "    </tr>\n",
       "    <tr>\n",
       "      <th>9</th>\n",
       "      <td>Frizz Control and Manageability</td>\n",
       "      <td>0.06</td>\n",
       "    </tr>\n",
       "    <tr>\n",
       "      <th>10</th>\n",
       "      <td>Skin Emollience and Softening</td>\n",
       "      <td>0.06</td>\n",
       "    </tr>\n",
       "    <tr>\n",
       "      <th>11</th>\n",
       "      <td>Product Preservation</td>\n",
       "      <td>0.06</td>\n",
       "    </tr>\n",
       "    <tr>\n",
       "      <th>13</th>\n",
       "      <td>Product Viscosity Control</td>\n",
       "      <td>0.06</td>\n",
       "    </tr>\n",
       "  </tbody>\n",
       "</table>\n",
       "</div>"
      ],
      "text/plain": [
       "                                 Function  Proportion\n",
       "7       Skin Nourishment and Conditioning        0.17\n",
       "0             Product Texture Enhancement        0.11\n",
       "12   Product Stability and Emulsification        0.11\n",
       "1                        Gentle Cleansing        0.06\n",
       "2                       Metal Ion Control        0.06\n",
       "3      Color Enhancement and Pigmentation        0.06\n",
       "4                     Opacity Enhancement        0.06\n",
       "5               Cleansing and Exfoliating        0.06\n",
       "6                pH Balance and Stability        0.06\n",
       "8   Skin Smoothing and Texture Refinement        0.06\n",
       "9         Frizz Control and Manageability        0.06\n",
       "10          Skin Emollience and Softening        0.06\n",
       "11                   Product Preservation        0.06\n",
       "13              Product Viscosity Control        0.06"
      ]
     },
     "execution_count": 179,
     "metadata": {},
     "output_type": "execute_result"
    }
   ],
   "source": [
    "props = calc_proportions(final_ing)\n",
    "props"
   ]
  },
  {
   "cell_type": "code",
   "execution_count": 180,
   "metadata": {},
   "outputs": [
    {
     "data": {
      "application/vnd.plotly.v1+json": {
       "config": {
        "plotlyServerURL": "https://plot.ly"
       },
       "data": [
        {
         "domain": {
          "x": [
           0,
           1
          ],
          "y": [
           0,
           1
          ]
         },
         "hovertemplate": "Function=%{label}<br>Proportion=%{value}<extra></extra>",
         "labels": [
          "Skin Nourishment and Conditioning",
          "Product Texture Enhancement",
          "Product Stability and Emulsification",
          "Gentle Cleansing",
          "Metal Ion Control",
          "Color Enhancement and Pigmentation",
          "Opacity Enhancement",
          "Cleansing and Exfoliating",
          "pH Balance and Stability",
          "Skin Smoothing and Texture Refinement",
          "Frizz Control and Manageability",
          "Skin Emollience and Softening",
          "Product Preservation",
          "Product Viscosity Control"
         ],
         "legendgroup": "",
         "name": "",
         "showlegend": true,
         "type": "pie",
         "values": [
          0.17,
          0.11,
          0.11,
          0.06,
          0.06,
          0.06,
          0.06,
          0.06,
          0.06,
          0.06,
          0.06,
          0.06,
          0.06,
          0.06
         ]
        }
       ],
       "layout": {
        "legend": {
         "tracegroupgap": 0
        },
        "margin": {
         "t": 60
        },
        "template": {
         "data": {
          "bar": [
           {
            "error_x": {
             "color": "#2a3f5f"
            },
            "error_y": {
             "color": "#2a3f5f"
            },
            "marker": {
             "line": {
              "color": "#E5ECF6",
              "width": 0.5
             },
             "pattern": {
              "fillmode": "overlay",
              "size": 10,
              "solidity": 0.2
             }
            },
            "type": "bar"
           }
          ],
          "barpolar": [
           {
            "marker": {
             "line": {
              "color": "#E5ECF6",
              "width": 0.5
             },
             "pattern": {
              "fillmode": "overlay",
              "size": 10,
              "solidity": 0.2
             }
            },
            "type": "barpolar"
           }
          ],
          "carpet": [
           {
            "aaxis": {
             "endlinecolor": "#2a3f5f",
             "gridcolor": "white",
             "linecolor": "white",
             "minorgridcolor": "white",
             "startlinecolor": "#2a3f5f"
            },
            "baxis": {
             "endlinecolor": "#2a3f5f",
             "gridcolor": "white",
             "linecolor": "white",
             "minorgridcolor": "white",
             "startlinecolor": "#2a3f5f"
            },
            "type": "carpet"
           }
          ],
          "choropleth": [
           {
            "colorbar": {
             "outlinewidth": 0,
             "ticks": ""
            },
            "type": "choropleth"
           }
          ],
          "contour": [
           {
            "colorbar": {
             "outlinewidth": 0,
             "ticks": ""
            },
            "colorscale": [
             [
              0,
              "#0d0887"
             ],
             [
              0.1111111111111111,
              "#46039f"
             ],
             [
              0.2222222222222222,
              "#7201a8"
             ],
             [
              0.3333333333333333,
              "#9c179e"
             ],
             [
              0.4444444444444444,
              "#bd3786"
             ],
             [
              0.5555555555555556,
              "#d8576b"
             ],
             [
              0.6666666666666666,
              "#ed7953"
             ],
             [
              0.7777777777777778,
              "#fb9f3a"
             ],
             [
              0.8888888888888888,
              "#fdca26"
             ],
             [
              1,
              "#f0f921"
             ]
            ],
            "type": "contour"
           }
          ],
          "contourcarpet": [
           {
            "colorbar": {
             "outlinewidth": 0,
             "ticks": ""
            },
            "type": "contourcarpet"
           }
          ],
          "heatmap": [
           {
            "colorbar": {
             "outlinewidth": 0,
             "ticks": ""
            },
            "colorscale": [
             [
              0,
              "#0d0887"
             ],
             [
              0.1111111111111111,
              "#46039f"
             ],
             [
              0.2222222222222222,
              "#7201a8"
             ],
             [
              0.3333333333333333,
              "#9c179e"
             ],
             [
              0.4444444444444444,
              "#bd3786"
             ],
             [
              0.5555555555555556,
              "#d8576b"
             ],
             [
              0.6666666666666666,
              "#ed7953"
             ],
             [
              0.7777777777777778,
              "#fb9f3a"
             ],
             [
              0.8888888888888888,
              "#fdca26"
             ],
             [
              1,
              "#f0f921"
             ]
            ],
            "type": "heatmap"
           }
          ],
          "heatmapgl": [
           {
            "colorbar": {
             "outlinewidth": 0,
             "ticks": ""
            },
            "colorscale": [
             [
              0,
              "#0d0887"
             ],
             [
              0.1111111111111111,
              "#46039f"
             ],
             [
              0.2222222222222222,
              "#7201a8"
             ],
             [
              0.3333333333333333,
              "#9c179e"
             ],
             [
              0.4444444444444444,
              "#bd3786"
             ],
             [
              0.5555555555555556,
              "#d8576b"
             ],
             [
              0.6666666666666666,
              "#ed7953"
             ],
             [
              0.7777777777777778,
              "#fb9f3a"
             ],
             [
              0.8888888888888888,
              "#fdca26"
             ],
             [
              1,
              "#f0f921"
             ]
            ],
            "type": "heatmapgl"
           }
          ],
          "histogram": [
           {
            "marker": {
             "pattern": {
              "fillmode": "overlay",
              "size": 10,
              "solidity": 0.2
             }
            },
            "type": "histogram"
           }
          ],
          "histogram2d": [
           {
            "colorbar": {
             "outlinewidth": 0,
             "ticks": ""
            },
            "colorscale": [
             [
              0,
              "#0d0887"
             ],
             [
              0.1111111111111111,
              "#46039f"
             ],
             [
              0.2222222222222222,
              "#7201a8"
             ],
             [
              0.3333333333333333,
              "#9c179e"
             ],
             [
              0.4444444444444444,
              "#bd3786"
             ],
             [
              0.5555555555555556,
              "#d8576b"
             ],
             [
              0.6666666666666666,
              "#ed7953"
             ],
             [
              0.7777777777777778,
              "#fb9f3a"
             ],
             [
              0.8888888888888888,
              "#fdca26"
             ],
             [
              1,
              "#f0f921"
             ]
            ],
            "type": "histogram2d"
           }
          ],
          "histogram2dcontour": [
           {
            "colorbar": {
             "outlinewidth": 0,
             "ticks": ""
            },
            "colorscale": [
             [
              0,
              "#0d0887"
             ],
             [
              0.1111111111111111,
              "#46039f"
             ],
             [
              0.2222222222222222,
              "#7201a8"
             ],
             [
              0.3333333333333333,
              "#9c179e"
             ],
             [
              0.4444444444444444,
              "#bd3786"
             ],
             [
              0.5555555555555556,
              "#d8576b"
             ],
             [
              0.6666666666666666,
              "#ed7953"
             ],
             [
              0.7777777777777778,
              "#fb9f3a"
             ],
             [
              0.8888888888888888,
              "#fdca26"
             ],
             [
              1,
              "#f0f921"
             ]
            ],
            "type": "histogram2dcontour"
           }
          ],
          "mesh3d": [
           {
            "colorbar": {
             "outlinewidth": 0,
             "ticks": ""
            },
            "type": "mesh3d"
           }
          ],
          "parcoords": [
           {
            "line": {
             "colorbar": {
              "outlinewidth": 0,
              "ticks": ""
             }
            },
            "type": "parcoords"
           }
          ],
          "pie": [
           {
            "automargin": true,
            "type": "pie"
           }
          ],
          "scatter": [
           {
            "fillpattern": {
             "fillmode": "overlay",
             "size": 10,
             "solidity": 0.2
            },
            "type": "scatter"
           }
          ],
          "scatter3d": [
           {
            "line": {
             "colorbar": {
              "outlinewidth": 0,
              "ticks": ""
             }
            },
            "marker": {
             "colorbar": {
              "outlinewidth": 0,
              "ticks": ""
             }
            },
            "type": "scatter3d"
           }
          ],
          "scattercarpet": [
           {
            "marker": {
             "colorbar": {
              "outlinewidth": 0,
              "ticks": ""
             }
            },
            "type": "scattercarpet"
           }
          ],
          "scattergeo": [
           {
            "marker": {
             "colorbar": {
              "outlinewidth": 0,
              "ticks": ""
             }
            },
            "type": "scattergeo"
           }
          ],
          "scattergl": [
           {
            "marker": {
             "colorbar": {
              "outlinewidth": 0,
              "ticks": ""
             }
            },
            "type": "scattergl"
           }
          ],
          "scattermapbox": [
           {
            "marker": {
             "colorbar": {
              "outlinewidth": 0,
              "ticks": ""
             }
            },
            "type": "scattermapbox"
           }
          ],
          "scatterpolar": [
           {
            "marker": {
             "colorbar": {
              "outlinewidth": 0,
              "ticks": ""
             }
            },
            "type": "scatterpolar"
           }
          ],
          "scatterpolargl": [
           {
            "marker": {
             "colorbar": {
              "outlinewidth": 0,
              "ticks": ""
             }
            },
            "type": "scatterpolargl"
           }
          ],
          "scatterternary": [
           {
            "marker": {
             "colorbar": {
              "outlinewidth": 0,
              "ticks": ""
             }
            },
            "type": "scatterternary"
           }
          ],
          "surface": [
           {
            "colorbar": {
             "outlinewidth": 0,
             "ticks": ""
            },
            "colorscale": [
             [
              0,
              "#0d0887"
             ],
             [
              0.1111111111111111,
              "#46039f"
             ],
             [
              0.2222222222222222,
              "#7201a8"
             ],
             [
              0.3333333333333333,
              "#9c179e"
             ],
             [
              0.4444444444444444,
              "#bd3786"
             ],
             [
              0.5555555555555556,
              "#d8576b"
             ],
             [
              0.6666666666666666,
              "#ed7953"
             ],
             [
              0.7777777777777778,
              "#fb9f3a"
             ],
             [
              0.8888888888888888,
              "#fdca26"
             ],
             [
              1,
              "#f0f921"
             ]
            ],
            "type": "surface"
           }
          ],
          "table": [
           {
            "cells": {
             "fill": {
              "color": "#EBF0F8"
             },
             "line": {
              "color": "white"
             }
            },
            "header": {
             "fill": {
              "color": "#C8D4E3"
             },
             "line": {
              "color": "white"
             }
            },
            "type": "table"
           }
          ]
         },
         "layout": {
          "annotationdefaults": {
           "arrowcolor": "#2a3f5f",
           "arrowhead": 0,
           "arrowwidth": 1
          },
          "autotypenumbers": "strict",
          "coloraxis": {
           "colorbar": {
            "outlinewidth": 0,
            "ticks": ""
           }
          },
          "colorscale": {
           "diverging": [
            [
             0,
             "#8e0152"
            ],
            [
             0.1,
             "#c51b7d"
            ],
            [
             0.2,
             "#de77ae"
            ],
            [
             0.3,
             "#f1b6da"
            ],
            [
             0.4,
             "#fde0ef"
            ],
            [
             0.5,
             "#f7f7f7"
            ],
            [
             0.6,
             "#e6f5d0"
            ],
            [
             0.7,
             "#b8e186"
            ],
            [
             0.8,
             "#7fbc41"
            ],
            [
             0.9,
             "#4d9221"
            ],
            [
             1,
             "#276419"
            ]
           ],
           "sequential": [
            [
             0,
             "#0d0887"
            ],
            [
             0.1111111111111111,
             "#46039f"
            ],
            [
             0.2222222222222222,
             "#7201a8"
            ],
            [
             0.3333333333333333,
             "#9c179e"
            ],
            [
             0.4444444444444444,
             "#bd3786"
            ],
            [
             0.5555555555555556,
             "#d8576b"
            ],
            [
             0.6666666666666666,
             "#ed7953"
            ],
            [
             0.7777777777777778,
             "#fb9f3a"
            ],
            [
             0.8888888888888888,
             "#fdca26"
            ],
            [
             1,
             "#f0f921"
            ]
           ],
           "sequentialminus": [
            [
             0,
             "#0d0887"
            ],
            [
             0.1111111111111111,
             "#46039f"
            ],
            [
             0.2222222222222222,
             "#7201a8"
            ],
            [
             0.3333333333333333,
             "#9c179e"
            ],
            [
             0.4444444444444444,
             "#bd3786"
            ],
            [
             0.5555555555555556,
             "#d8576b"
            ],
            [
             0.6666666666666666,
             "#ed7953"
            ],
            [
             0.7777777777777778,
             "#fb9f3a"
            ],
            [
             0.8888888888888888,
             "#fdca26"
            ],
            [
             1,
             "#f0f921"
            ]
           ]
          },
          "colorway": [
           "#636efa",
           "#EF553B",
           "#00cc96",
           "#ab63fa",
           "#FFA15A",
           "#19d3f3",
           "#FF6692",
           "#B6E880",
           "#FF97FF",
           "#FECB52"
          ],
          "font": {
           "color": "#2a3f5f"
          },
          "geo": {
           "bgcolor": "white",
           "lakecolor": "white",
           "landcolor": "#E5ECF6",
           "showlakes": true,
           "showland": true,
           "subunitcolor": "white"
          },
          "hoverlabel": {
           "align": "left"
          },
          "hovermode": "closest",
          "mapbox": {
           "style": "light"
          },
          "paper_bgcolor": "white",
          "plot_bgcolor": "#E5ECF6",
          "polar": {
           "angularaxis": {
            "gridcolor": "white",
            "linecolor": "white",
            "ticks": ""
           },
           "bgcolor": "#E5ECF6",
           "radialaxis": {
            "gridcolor": "white",
            "linecolor": "white",
            "ticks": ""
           }
          },
          "scene": {
           "xaxis": {
            "backgroundcolor": "#E5ECF6",
            "gridcolor": "white",
            "gridwidth": 2,
            "linecolor": "white",
            "showbackground": true,
            "ticks": "",
            "zerolinecolor": "white"
           },
           "yaxis": {
            "backgroundcolor": "#E5ECF6",
            "gridcolor": "white",
            "gridwidth": 2,
            "linecolor": "white",
            "showbackground": true,
            "ticks": "",
            "zerolinecolor": "white"
           },
           "zaxis": {
            "backgroundcolor": "#E5ECF6",
            "gridcolor": "white",
            "gridwidth": 2,
            "linecolor": "white",
            "showbackground": true,
            "ticks": "",
            "zerolinecolor": "white"
           }
          },
          "shapedefaults": {
           "line": {
            "color": "#2a3f5f"
           }
          },
          "ternary": {
           "aaxis": {
            "gridcolor": "white",
            "linecolor": "white",
            "ticks": ""
           },
           "baxis": {
            "gridcolor": "white",
            "linecolor": "white",
            "ticks": ""
           },
           "bgcolor": "#E5ECF6",
           "caxis": {
            "gridcolor": "white",
            "linecolor": "white",
            "ticks": ""
           }
          },
          "title": {
           "x": 0.05
          },
          "xaxis": {
           "automargin": true,
           "gridcolor": "white",
           "linecolor": "white",
           "ticks": "",
           "title": {
            "standoff": 15
           },
           "zerolinecolor": "white",
           "zerolinewidth": 2
          },
          "yaxis": {
           "automargin": true,
           "gridcolor": "white",
           "linecolor": "white",
           "ticks": "",
           "title": {
            "standoff": 15
           },
           "zerolinecolor": "white",
           "zerolinewidth": 2
          }
         }
        }
       }
      }
     },
     "metadata": {},
     "output_type": "display_data"
    }
   ],
   "source": [
    "fig = px.pie(props,values='Proportion',names='Function')\n",
    "fig.show()"
   ]
  },
  {
   "cell_type": "code",
   "execution_count": null,
   "metadata": {},
   "outputs": [],
   "source": []
  }
 ],
 "metadata": {
  "kernelspec": {
   "display_name": "base",
   "language": "python",
   "name": "python3"
  },
  "language_info": {
   "codemirror_mode": {
    "name": "ipython",
    "version": 3
   },
   "file_extension": ".py",
   "mimetype": "text/x-python",
   "name": "python",
   "nbconvert_exporter": "python",
   "pygments_lexer": "ipython3",
   "version": "3.10.10"
  },
  "orig_nbformat": 4
 },
 "nbformat": 4,
 "nbformat_minor": 2
}
