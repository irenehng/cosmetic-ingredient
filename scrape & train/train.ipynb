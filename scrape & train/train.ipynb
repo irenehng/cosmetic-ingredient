{
 "cells": [
  {
   "cell_type": "code",
   "execution_count": 154,
   "metadata": {},
   "outputs": [],
   "source": [
    "import pandas as pd\n",
    "import numpy as np\n",
    "import nltk\n",
    "import matplotlib.pyplot as plt\n",
    "from nltk.stem import WordNetLemmatizer\n",
    "from nltk.tokenize import word_tokenize\n",
    "from sklearn.model_selection import train_test_split\n",
    "from sklearn.feature_extraction.text import CountVectorizer\n",
    "import re\n",
    "from sklearn.metrics import accuracy_score, confusion_matrix"
   ]
  },
  {
   "cell_type": "code",
   "execution_count": 270,
   "metadata": {},
   "outputs": [
    {
     "data": {
      "text/html": [
       "<div>\n",
       "<style scoped>\n",
       "    .dataframe tbody tr th:only-of-type {\n",
       "        vertical-align: middle;\n",
       "    }\n",
       "\n",
       "    .dataframe tbody tr th {\n",
       "        vertical-align: top;\n",
       "    }\n",
       "\n",
       "    .dataframe thead th {\n",
       "        text-align: right;\n",
       "    }\n",
       "</style>\n",
       "<table border=\"1\" class=\"dataframe\">\n",
       "  <thead>\n",
       "    <tr style=\"text-align: right;\">\n",
       "      <th></th>\n",
       "      <th>Function</th>\n",
       "      <th>Description</th>\n",
       "    </tr>\n",
       "  </thead>\n",
       "  <tbody>\n",
       "    <tr>\n",
       "      <th>0</th>\n",
       "      <td>abrasive</td>\n",
       "      <td>Removing unwanted tissue or foreign materials ...</td>\n",
       "    </tr>\n",
       "    <tr>\n",
       "      <th>1</th>\n",
       "      <td>absorbent</td>\n",
       "      <td>Taking up water- and/or oil-soluble (dissolved...</td>\n",
       "    </tr>\n",
       "    <tr>\n",
       "      <th>2</th>\n",
       "      <td>adhesive</td>\n",
       "      <td>Tending to unite/bind/bond surfaces together.</td>\n",
       "    </tr>\n",
       "    <tr>\n",
       "      <th>3</th>\n",
       "      <td>anti-seborrheic</td>\n",
       "      <td>Preventing or relieving the symptoms of seborr...</td>\n",
       "    </tr>\n",
       "    <tr>\n",
       "      <th>4</th>\n",
       "      <td>anti-sebum</td>\n",
       "      <td>Helping control sebum production.</td>\n",
       "    </tr>\n",
       "  </tbody>\n",
       "</table>\n",
       "</div>"
      ],
      "text/plain": [
       "          Function                                        Description\n",
       "0         abrasive  Removing unwanted tissue or foreign materials ...\n",
       "1        absorbent  Taking up water- and/or oil-soluble (dissolved...\n",
       "2         adhesive      Tending to unite/bind/bond surfaces together.\n",
       "3  anti-seborrheic  Preventing or relieving the symptoms of seborr...\n",
       "4       anti-sebum                  Helping control sebum production."
      ]
     },
     "execution_count": 270,
     "metadata": {},
     "output_type": "execute_result"
    }
   ],
   "source": [
    "functions = pd.read_csv(\"function_description.csv\")\n",
    "functions[\"Function\"] = functions[\"Function\"].str.lower()\n",
    "functions.head()"
   ]
  },
  {
   "cell_type": "code",
   "execution_count": 309,
   "metadata": {},
   "outputs": [
    {
     "data": {
      "text/html": [
       "<div>\n",
       "<style scoped>\n",
       "    .dataframe tbody tr th:only-of-type {\n",
       "        vertical-align: middle;\n",
       "    }\n",
       "\n",
       "    .dataframe tbody tr th {\n",
       "        vertical-align: top;\n",
       "    }\n",
       "\n",
       "    .dataframe thead th {\n",
       "        text-align: right;\n",
       "    }\n",
       "</style>\n",
       "<table border=\"1\" class=\"dataframe\">\n",
       "  <thead>\n",
       "    <tr style=\"text-align: right;\">\n",
       "      <th></th>\n",
       "      <th>Ingredient</th>\n",
       "      <th>Function</th>\n",
       "    </tr>\n",
       "  </thead>\n",
       "  <tbody>\n",
       "    <tr>\n",
       "      <th>0</th>\n",
       "      <td>secale cereale seed extract</td>\n",
       "      <td>abrasive</td>\n",
       "    </tr>\n",
       "    <tr>\n",
       "      <th>1</th>\n",
       "      <td>moroccan lava clay</td>\n",
       "      <td>abrasive</td>\n",
       "    </tr>\n",
       "    <tr>\n",
       "      <th>2</th>\n",
       "      <td>rosa rugosa bud powder</td>\n",
       "      <td>abrasive</td>\n",
       "    </tr>\n",
       "    <tr>\n",
       "      <th>3</th>\n",
       "      <td>orthoclase</td>\n",
       "      <td>abrasive</td>\n",
       "    </tr>\n",
       "    <tr>\n",
       "      <th>4</th>\n",
       "      <td>topaz</td>\n",
       "      <td>abrasive</td>\n",
       "    </tr>\n",
       "  </tbody>\n",
       "</table>\n",
       "</div>"
      ],
      "text/plain": [
       "                    Ingredient  Function\n",
       "0  secale cereale seed extract  abrasive\n",
       "1           moroccan lava clay  abrasive\n",
       "2       rosa rugosa bud powder  abrasive\n",
       "3                   orthoclase  abrasive\n",
       "4                        topaz  abrasive"
      ]
     },
     "execution_count": 309,
     "metadata": {},
     "output_type": "execute_result"
    }
   ],
   "source": [
    "ingredients = pd.read_csv(\"ingredient-function.csv\")\n",
    "ingredients.head()"
   ]
  },
  {
   "cell_type": "code",
   "execution_count": 311,
   "metadata": {},
   "outputs": [],
   "source": [
    "function_to_group = {\n",
    "    'abrasive': 'Cleansing and Exfoliating',\n",
    "    'absorbent': 'Oil and Sebum Control',\n",
    "    'adhesive': 'Structural Enhancement',\n",
    "    'anti-seborrheic': 'Oil and Sebum Control',\n",
    "    'anti-sebum': 'Oil and Sebum Control',\n",
    "    'anticaking': 'Product Texture Enhancement',\n",
    "    'anticorrosive': 'Preservation and Stability',\n",
    "    'antifoaming': 'Product Texture Enhancement',\n",
    "    'antimicrobial': 'Skin Protection and Purification',\n",
    "    'antioxidant': 'Skin Protection and Vitality',\n",
    "    'antiperspirant': 'Sweat and Odor Control',\n",
    "    'antiplaque': 'Oral Care',\n",
    "    'antistatic': 'Frizz Control and Manageability',\n",
    "    'astringent': 'Skin Pore Tightening',\n",
    "    'binding': 'Product Integrity and Cohesion',\n",
    "    'bleaching': 'Skin Brightening and Lightening',\n",
    "    'buffering': 'pH Balance and Stability',\n",
    "    'bulking': 'Product Volume and Fullness',\n",
    "    'chelating': 'Metal Ion Control',\n",
    "    'cleansing': 'Gentle Cleansing',\n",
    "    'colorant': 'Color Enhancement and Pigmentation',\n",
    "    'denaturant': 'Preservation and Stability',\n",
    "    'deodorant': 'Odor Control',\n",
    "    'depilatory': 'Hair Removal',\n",
    "    'detangling': 'Hair Detangling',\n",
    "    'dispersing non-surfactant': 'Product Dispersion Enhancement',\n",
    "    'emulsion stabilising': 'Product Stability and Emulsification',\n",
    "    'epilating': 'Hair Removal',\n",
    "    'exfoliating': 'Gentle Exfoliation',\n",
    "    'eyelash conditioning': 'Eyelash Care',\n",
    "    'film forming': 'Skin Barrier Protection',\n",
    "    'foaming': 'Rich Foaming',\n",
    "    'fragrance': 'Scent and Sensory Experience',\n",
    "    'gel forming': 'Gel Formation and Texture',\n",
    "    'hair conditioning': 'Hair Nourishment and Conditioning',\n",
    "    'hair dyeing': 'Hair Coloration',\n",
    "    'hair fixing': 'Hair Styling and Fixation',\n",
    "    'hair waving or straightening': 'Hair Texture Transformation',\n",
    "    'humectant': 'Moisture Retention and Hydration',\n",
    "    'keratolytic': 'Skin Exfoliation',\n",
    "    'light stabilizer': 'UV Protection and Light Stability',\n",
    "    'lytic': 'Skin Purification',\n",
    "    'moisturising': 'Intensive Hydration',\n",
    "    'nail conditioning': 'Nail Care and Conditioning',\n",
    "    'nail sculpting': 'Nail Sculpting and Enhancement',\n",
    "    'not reported': 'Other Functions',\n",
    "    'opacifying': 'Opacity Enhancement',\n",
    "    'oral care': 'Oral Hygiene',\n",
    "    'oxidising': 'Product Oxidation Control',\n",
    "    'pearlescent': 'Luminosity Enhancement',\n",
    "    'perfuming': 'Fragrance and Sensory Experience',\n",
    "    'plasticiser': 'Product Flexibility and Plasticity',\n",
    "    'preservative': 'Product Preservation',\n",
    "    'propellant': 'Product Dispensing',\n",
    "    'reducing': 'Product Stability and Reduction',\n",
    "    'refatting': 'Skin Nourishment and Moisturization',\n",
    "    'refreshing': 'Skin Refreshment and Vitality',\n",
    "    'skin conditioning': 'Skin Nourishment and Conditioning',\n",
    "    'skin conditioning - emollient': 'Skin Emollience and Softening',\n",
    "    'skin conditioning - humectant': 'Skin Hydration and Moisture Retention',\n",
    "    'skin conditioning - occlusive': 'Skin Barrier Protection and Moisture Lock',\n",
    "    'skin conditioning - miscellaneous': 'Skin Nourishment and Miscellaneous',\n",
    "    'skin protecting': 'Skin Protection and Cleansing',\n",
    "    'slip modifier': 'Product Spreadability and Slip',\n",
    "    'smoothing': 'Skin Smoothing and Texture Refinement',\n",
    "    'solvent': 'Product Solubility and Dissolution',\n",
    "    'soothing': 'Skin Soothing and Calming',\n",
    "    'surface modifier': 'Product Surface Modification',\n",
    "    'surfactant - cleansing': 'Gentle Cleansing',\n",
    "    'surfactant - dispersing': 'Product Dispersion Enhancement',\n",
    "    'surfactant - emulsifying': 'Emulsion Formation and Stability',\n",
    "    'surfactant - foam boosting': 'Rich Foaming',\n",
    "    'surfactant - hydrotrope': 'Product Solubilization and Dispersion',\n",
    "    'surfactant - solubilizing': 'Product Solubilization and Dispersion',\n",
    "    'tanning': 'Skin Tanning and Glow',\n",
    "    'tonic': 'Skin Toning and Refreshment',\n",
    "    'uv absorber': 'UV Protection and Absorption',\n",
    "    'uv filter': 'UV Protection and Filtering',\n",
    "    'viscosity controlling': 'Product Viscosity Control',\n",
    "    'ph adjusters': 'pH Balance and Stability',\n",
    "}\n",
    "\n",
    "\n",
    "ingredients[\"Group\"] = ingredients[\"Function\"].map(function_to_group)\n",
    "ingredients.head()\n",
    "ingredients.to_csv(\"ingredients.csv\",index=False)"
   ]
  },
  {
   "cell_type": "code",
   "execution_count": 294,
   "metadata": {},
   "outputs": [
    {
     "data": {
      "text/plain": [
       "{'Cleansing and Purifying': 0,\n",
       " 'Structural & Textural': 1,\n",
       " 'Stability': 2,\n",
       " 'Appearance Enhancement': 3,\n",
       " 'Oral Care': 4,\n",
       " 'Sensory Experience': 5,\n",
       " 'Hair Care': 6,\n",
       " 'Hydration and Moisturization': 7,\n",
       " 'Other': 8}"
      ]
     },
     "execution_count": 294,
     "metadata": {},
     "output_type": "execute_result"
    }
   ],
   "source": [
    "group_mapping = {label: i for i, label in enumerate(ingredients['Group'].unique())}\n",
    "group_mapping"
   ]
  },
  {
   "cell_type": "code",
   "execution_count": 295,
   "metadata": {},
   "outputs": [],
   "source": [
    "ingredients[\"Label\"] = ingredients[\"Group\"].map(group_mapping)"
   ]
  },
  {
   "cell_type": "code",
   "execution_count": 285,
   "metadata": {},
   "outputs": [
    {
     "data": {
      "text/plain": [
       "78"
      ]
     },
     "execution_count": 285,
     "metadata": {},
     "output_type": "execute_result"
    }
   ],
   "source": [
    "#find and remove small classes\n",
    "reverse = {value:key for key,value in group_mapping.items()}\n",
    "ingredients = ingredients[~ingredients[\"Label\"].isin(smallest_groups)]\n",
    "ingredients[\"Label\"].nunique()"
   ]
  },
  {
   "attachments": {},
   "cell_type": "markdown",
   "metadata": {},
   "source": [
    "# Data Preprocessing"
   ]
  },
  {
   "cell_type": "code",
   "execution_count": 296,
   "metadata": {},
   "outputs": [
    {
     "name": "stderr",
     "output_type": "stream",
     "text": [
      "[nltk_data] Downloading package punkt to\n",
      "[nltk_data]     /Users/irenenguyen/nltk_data...\n",
      "[nltk_data]   Package punkt is already up-to-date!\n",
      "[nltk_data] Downloading package wordnet to\n",
      "[nltk_data]     /Users/irenenguyen/nltk_data...\n",
      "[nltk_data]   Package wordnet is already up-to-date!\n"
     ]
    }
   ],
   "source": [
    "nltk.download('punkt')\n",
    "nltk.download('wordnet')\n",
    "cleanedData = []\n",
    "lemma = WordNetLemmatizer()\n",
    "for text in ingredients['Ingredient']:\n",
    "  text = re.sub(\"[^a-zA-Z0-9]\", \" \", text)\n",
    "  #tokenize and lemmatize\n",
    "  text = word_tokenize(text)\n",
    "  text = [lemma.lemmatize(word) for word in text]\n",
    "  #joining\n",
    "  text = \" \".join(text)\n",
    "  cleanedData.append(text)"
   ]
  },
  {
   "cell_type": "code",
   "execution_count": 297,
   "metadata": {},
   "outputs": [],
   "source": [
    "vectorizer = CountVectorizer()\n",
    "BOW = vectorizer.fit_transform(cleanedData)"
   ]
  },
  {
   "cell_type": "code",
   "execution_count": 298,
   "metadata": {},
   "outputs": [
    {
     "name": "stdout",
     "output_type": "stream",
     "text": [
      "(37923, 11844)\n",
      "(37923,)\n",
      "(12642, 11844)\n",
      "(12642,)\n"
     ]
    }
   ],
   "source": [
    "from sklearn.model_selection import train_test_split\n",
    "x_train,x_test,y_train,y_test = train_test_split(BOW,np.asarray(ingredients[\"Label\"]), stratify=ingredients[\"Label\"])\n",
    "print(x_train.shape)\n",
    "print(y_train.shape)\n",
    "print(x_test.shape)\n",
    "print(y_test.shape)"
   ]
  },
  {
   "cell_type": "code",
   "execution_count": 299,
   "metadata": {},
   "outputs": [
    {
     "name": "stderr",
     "output_type": "stream",
     "text": [
      "/Users/irenenguyen/mambaforge/lib/python3.10/site-packages/sklearn/ensemble/_base.py:166: FutureWarning: `base_estimator` was renamed to `estimator` in version 1.2 and will be removed in 1.4.\n",
      "  warnings.warn(\n"
     ]
    },
    {
     "data": {
      "text/html": [
       "<style>#sk-container-id-6 {color: black;background-color: white;}#sk-container-id-6 pre{padding: 0;}#sk-container-id-6 div.sk-toggleable {background-color: white;}#sk-container-id-6 label.sk-toggleable__label {cursor: pointer;display: block;width: 100%;margin-bottom: 0;padding: 0.3em;box-sizing: border-box;text-align: center;}#sk-container-id-6 label.sk-toggleable__label-arrow:before {content: \"▸\";float: left;margin-right: 0.25em;color: #696969;}#sk-container-id-6 label.sk-toggleable__label-arrow:hover:before {color: black;}#sk-container-id-6 div.sk-estimator:hover label.sk-toggleable__label-arrow:before {color: black;}#sk-container-id-6 div.sk-toggleable__content {max-height: 0;max-width: 0;overflow: hidden;text-align: left;background-color: #f0f8ff;}#sk-container-id-6 div.sk-toggleable__content pre {margin: 0.2em;color: black;border-radius: 0.25em;background-color: #f0f8ff;}#sk-container-id-6 input.sk-toggleable__control:checked~div.sk-toggleable__content {max-height: 200px;max-width: 100%;overflow: auto;}#sk-container-id-6 input.sk-toggleable__control:checked~label.sk-toggleable__label-arrow:before {content: \"▾\";}#sk-container-id-6 div.sk-estimator input.sk-toggleable__control:checked~label.sk-toggleable__label {background-color: #d4ebff;}#sk-container-id-6 div.sk-label input.sk-toggleable__control:checked~label.sk-toggleable__label {background-color: #d4ebff;}#sk-container-id-6 input.sk-hidden--visually {border: 0;clip: rect(1px 1px 1px 1px);clip: rect(1px, 1px, 1px, 1px);height: 1px;margin: -1px;overflow: hidden;padding: 0;position: absolute;width: 1px;}#sk-container-id-6 div.sk-estimator {font-family: monospace;background-color: #f0f8ff;border: 1px dotted black;border-radius: 0.25em;box-sizing: border-box;margin-bottom: 0.5em;}#sk-container-id-6 div.sk-estimator:hover {background-color: #d4ebff;}#sk-container-id-6 div.sk-parallel-item::after {content: \"\";width: 100%;border-bottom: 1px solid gray;flex-grow: 1;}#sk-container-id-6 div.sk-label:hover label.sk-toggleable__label {background-color: #d4ebff;}#sk-container-id-6 div.sk-serial::before {content: \"\";position: absolute;border-left: 1px solid gray;box-sizing: border-box;top: 0;bottom: 0;left: 50%;z-index: 0;}#sk-container-id-6 div.sk-serial {display: flex;flex-direction: column;align-items: center;background-color: white;padding-right: 0.2em;padding-left: 0.2em;position: relative;}#sk-container-id-6 div.sk-item {position: relative;z-index: 1;}#sk-container-id-6 div.sk-parallel {display: flex;align-items: stretch;justify-content: center;background-color: white;position: relative;}#sk-container-id-6 div.sk-item::before, #sk-container-id-6 div.sk-parallel-item::before {content: \"\";position: absolute;border-left: 1px solid gray;box-sizing: border-box;top: 0;bottom: 0;left: 50%;z-index: -1;}#sk-container-id-6 div.sk-parallel-item {display: flex;flex-direction: column;z-index: 1;position: relative;background-color: white;}#sk-container-id-6 div.sk-parallel-item:first-child::after {align-self: flex-end;width: 50%;}#sk-container-id-6 div.sk-parallel-item:last-child::after {align-self: flex-start;width: 50%;}#sk-container-id-6 div.sk-parallel-item:only-child::after {width: 0;}#sk-container-id-6 div.sk-dashed-wrapped {border: 1px dashed gray;margin: 0 0.4em 0.5em 0.4em;box-sizing: border-box;padding-bottom: 0.4em;background-color: white;}#sk-container-id-6 div.sk-label label {font-family: monospace;font-weight: bold;display: inline-block;line-height: 1.2em;}#sk-container-id-6 div.sk-label-container {text-align: center;}#sk-container-id-6 div.sk-container {/* jupyter's `normalize.less` sets `[hidden] { display: none; }` but bootstrap.min.css set `[hidden] { display: none !important; }` so we also need the `!important` here to be able to override the default hidden behavior on the sphinx rendered scikit-learn.org. See: https://github.com/scikit-learn/scikit-learn/issues/21755 */display: inline-block !important;position: relative;}#sk-container-id-6 div.sk-text-repr-fallback {display: none;}</style><div id=\"sk-container-id-6\" class=\"sk-top-container\"><div class=\"sk-text-repr-fallback\"><pre>BaggingClassifier(base_estimator=SVC(class_weight=&#x27;balanced&#x27;))</pre><b>In a Jupyter environment, please rerun this cell to show the HTML representation or trust the notebook. <br />On GitHub, the HTML representation is unable to render, please try loading this page with nbviewer.org.</b></div><div class=\"sk-container\" hidden><div class=\"sk-item sk-dashed-wrapped\"><div class=\"sk-label-container\"><div class=\"sk-label sk-toggleable\"><input class=\"sk-toggleable__control sk-hidden--visually\" id=\"sk-estimator-id-12\" type=\"checkbox\" ><label for=\"sk-estimator-id-12\" class=\"sk-toggleable__label sk-toggleable__label-arrow\">BaggingClassifier</label><div class=\"sk-toggleable__content\"><pre>BaggingClassifier(base_estimator=SVC(class_weight=&#x27;balanced&#x27;))</pre></div></div></div><div class=\"sk-parallel\"><div class=\"sk-parallel-item\"><div class=\"sk-item\"><div class=\"sk-label-container\"><div class=\"sk-label sk-toggleable\"><input class=\"sk-toggleable__control sk-hidden--visually\" id=\"sk-estimator-id-13\" type=\"checkbox\" ><label for=\"sk-estimator-id-13\" class=\"sk-toggleable__label sk-toggleable__label-arrow\">base_estimator: SVC</label><div class=\"sk-toggleable__content\"><pre>SVC(class_weight=&#x27;balanced&#x27;)</pre></div></div></div><div class=\"sk-serial\"><div class=\"sk-item\"><div class=\"sk-estimator sk-toggleable\"><input class=\"sk-toggleable__control sk-hidden--visually\" id=\"sk-estimator-id-14\" type=\"checkbox\" ><label for=\"sk-estimator-id-14\" class=\"sk-toggleable__label sk-toggleable__label-arrow\">SVC</label><div class=\"sk-toggleable__content\"><pre>SVC(class_weight=&#x27;balanced&#x27;)</pre></div></div></div></div></div></div></div></div></div></div>"
      ],
      "text/plain": [
       "BaggingClassifier(base_estimator=SVC(class_weight='balanced'))"
      ]
     },
     "execution_count": 299,
     "metadata": {},
     "output_type": "execute_result"
    }
   ],
   "source": [
    "from sklearn.svm import SVC\n",
    "from sklearn.ensemble import BaggingClassifier\n",
    "model = SVC(class_weight='balanced')\n",
    "ensemble = BaggingClassifier(base_estimator=model,n_estimators=10)\n",
    "ensemble.fit(x_train,y_train)"
   ]
  },
  {
   "cell_type": "code",
   "execution_count": 300,
   "metadata": {},
   "outputs": [
    {
     "name": "stdout",
     "output_type": "stream",
     "text": [
      "Test accuracy: 0.43727258345198544\n"
     ]
    }
   ],
   "source": [
    "y_pred =ensemble.predict(x_test)\n",
    "print(\"Test accuracy:\",accuracy_score(y_test, y_pred))"
   ]
  },
  {
   "cell_type": "markdown",
   "metadata": {},
   "source": [
    "# Logistic Regression"
   ]
  },
  {
   "cell_type": "code",
   "execution_count": 291,
   "metadata": {},
   "outputs": [
    {
     "name": "stdout",
     "output_type": "stream",
     "text": [
      "Accuracy: 0.2901439645625692\n"
     ]
    },
    {
     "name": "stderr",
     "output_type": "stream",
     "text": [
      "/Users/irenenguyen/mambaforge/lib/python3.10/site-packages/sklearn/linear_model/_logistic.py:458: ConvergenceWarning: lbfgs failed to converge (status=1):\n",
      "STOP: TOTAL NO. of ITERATIONS REACHED LIMIT.\n",
      "\n",
      "Increase the number of iterations (max_iter) or scale the data as shown in:\n",
      "    https://scikit-learn.org/stable/modules/preprocessing.html\n",
      "Please also refer to the documentation for alternative solver options:\n",
      "    https://scikit-learn.org/stable/modules/linear_model.html#logistic-regression\n",
      "  n_iter_i = _check_optimize_result(\n"
     ]
    }
   ],
   "source": [
    "from sklearn.linear_model import LogisticRegression\n",
    "\n",
    "classifier = LogisticRegression()\n",
    "classifier.fit(x_train, y_train)\n",
    "score = classifier.score(x_test, y_test)\n",
    "print(\"Accuracy:\", score)\n"
   ]
  },
  {
   "cell_type": "code",
   "execution_count": 214,
   "metadata": {},
   "outputs": [
    {
     "name": "stdout",
     "output_type": "stream",
     "text": [
      "(37925, 11937)\n",
      "(37925,)\n",
      "(12642, 11937)\n",
      "(12642,)\n"
     ]
    }
   ],
   "source": [
    "from scipy.sparse import hstack\n",
    "v = CountVectorizer()\n",
    "x2 = v.fit_transform(ingredients.Function)\n",
    "combined = hstack((BOW,x2))\n",
    "x_train,x_test,y_train,y_test = train_test_split(combined,np.asarray(ingredients[\"Label\"]), stratify=ingredients[\"Label\"])\n",
    "print(x_train.shape)\n",
    "print(y_train.shape)\n",
    "print(x_test.shape)\n",
    "print(y_test.shape)"
   ]
  },
  {
   "cell_type": "code",
   "execution_count": 215,
   "metadata": {},
   "outputs": [
    {
     "name": "stdout",
     "output_type": "stream",
     "text": [
      "Accuracy: 0.9998417971839899\n"
     ]
    }
   ],
   "source": [
    "classifier = LogisticRegression()\n",
    "classifier.fit(x_train, y_train)\n",
    "score = classifier.score(x_test, y_test)\n",
    "print(\"Accuracy:\", score)"
   ]
  },
  {
   "cell_type": "markdown",
   "metadata": {},
   "source": [
    "# Keras "
   ]
  },
  {
   "cell_type": "code",
   "execution_count": 175,
   "metadata": {},
   "outputs": [],
   "source": [
    "from keras.preprocessing.text import Tokenizer\n",
    "from keras.preprocessing.sequence import pad_sequences\n",
    "from keras.models import Sequential\n",
    "from keras import layers,losses"
   ]
  },
  {
   "cell_type": "code",
   "execution_count": 301,
   "metadata": {},
   "outputs": [],
   "source": [
    "tokenizer = Tokenizer(num_words=30000)\n",
    "tokenizer.fit_on_texts(ingredients.Ingredient)"
   ]
  },
  {
   "cell_type": "code",
   "execution_count": 302,
   "metadata": {},
   "outputs": [],
   "source": [
    "train_df,test_df = train_test_split(ingredients, test_size=0.2,stratify=ingredients[\"Label\"])\n",
    "X_train = tokenizer.texts_to_sequences(train_df.Ingredient)\n",
    "X_test = tokenizer.texts_to_sequences(test_df.Ingredient)\n",
    "y_train = train_df.Label\n",
    "y_test = test_df.Label"
   ]
  },
  {
   "cell_type": "code",
   "execution_count": 303,
   "metadata": {},
   "outputs": [],
   "source": [
    "vocab_size = len(tokenizer.word_index)+1"
   ]
  },
  {
   "cell_type": "code",
   "execution_count": 304,
   "metadata": {},
   "outputs": [],
   "source": [
    "maxlen=10\n",
    "X_train = pad_sequences(X_train,padding='post',maxlen=maxlen)\n",
    "X_test = pad_sequences(X_test,padding='post',maxlen=maxlen)"
   ]
  },
  {
   "cell_type": "code",
   "execution_count": 306,
   "metadata": {},
   "outputs": [],
   "source": [
    "embedding_dim = 100\n",
    "model = Sequential()\n",
    "model.add(layers.Embedding(input_dim=vocab_size,output_dim=embedding_dim,input_length=maxlen, trainable=True))\n",
    "model.add(layers.Conv1D(128,5,activation='relu'))\n",
    "model.add(layers.GlobalMaxPool1D())\n",
    "model.add(layers.Dense(64, activation='relu'))\n",
    "model.add(layers.Dense(32,activation='relu'))\n",
    "model.add(layers.Dense(9,activation='softmax'))\n",
    "model.compile(optimizer='adam', loss=losses.SparseCategoricalCrossentropy(from_logits=True),metrics=['accuracy'])"
   ]
  },
  {
   "cell_type": "code",
   "execution_count": 307,
   "metadata": {},
   "outputs": [
    {
     "name": "stdout",
     "output_type": "stream",
     "text": [
      "Epoch 1/20\n"
     ]
    },
    {
     "name": "stderr",
     "output_type": "stream",
     "text": [
      "/Users/irenenguyen/mambaforge/lib/python3.10/site-packages/keras/src/backend.py:5714: UserWarning: \"`sparse_categorical_crossentropy` received `from_logits=True`, but the `output` argument was produced by a Softmax activation and thus does not represent logits. Was this intended?\n",
      "  output, from_logits = _get_logits(\n"
     ]
    },
    {
     "name": "stdout",
     "output_type": "stream",
     "text": [
      "2529/2529 [==============================] - 11s 4ms/step - loss: 1.5364 - accuracy: 0.4503 - val_loss: 1.4368 - val_accuracy: 0.4858\n",
      "Epoch 2/20\n",
      "2529/2529 [==============================] - 11s 4ms/step - loss: 1.2631 - accuracy: 0.5376 - val_loss: 1.4045 - val_accuracy: 0.4905\n",
      "Epoch 3/20\n",
      "2529/2529 [==============================] - 11s 4ms/step - loss: 1.1048 - accuracy: 0.5784 - val_loss: 1.4108 - val_accuracy: 0.4888\n",
      "Epoch 4/20\n",
      "2529/2529 [==============================] - 11s 4ms/step - loss: 0.9954 - accuracy: 0.6018 - val_loss: 1.4881 - val_accuracy: 0.4760\n",
      "Epoch 5/20\n",
      "2529/2529 [==============================] - 11s 4ms/step - loss: 0.9155 - accuracy: 0.6168 - val_loss: 1.5756 - val_accuracy: 0.4783\n",
      "Epoch 6/20\n",
      "2529/2529 [==============================] - 11s 4ms/step - loss: 0.8574 - accuracy: 0.6259 - val_loss: 1.6885 - val_accuracy: 0.4578\n",
      "Epoch 7/20\n",
      "2529/2529 [==============================] - 11s 4ms/step - loss: 0.8175 - accuracy: 0.6360 - val_loss: 1.9140 - val_accuracy: 0.4594\n",
      "Epoch 8/20\n",
      "2529/2529 [==============================] - 11s 4ms/step - loss: 0.7822 - accuracy: 0.6415 - val_loss: 1.9806 - val_accuracy: 0.4512\n",
      "Epoch 9/20\n",
      "2529/2529 [==============================] - 11s 4ms/step - loss: 0.7520 - accuracy: 0.6478 - val_loss: 2.0790 - val_accuracy: 0.4498\n",
      "Epoch 10/20\n",
      "2529/2529 [==============================] - 11s 4ms/step - loss: 0.7306 - accuracy: 0.6538 - val_loss: 2.0919 - val_accuracy: 0.4446\n",
      "Epoch 11/20\n",
      "2529/2529 [==============================] - 11s 4ms/step - loss: 0.7104 - accuracy: 0.6558 - val_loss: 2.3110 - val_accuracy: 0.4539\n",
      "Epoch 12/20\n",
      "2529/2529 [==============================] - 11s 4ms/step - loss: 0.6946 - accuracy: 0.6612 - val_loss: 2.4723 - val_accuracy: 0.4175\n",
      "Epoch 13/20\n",
      "2529/2529 [==============================] - 11s 4ms/step - loss: 0.6797 - accuracy: 0.6642 - val_loss: 2.5475 - val_accuracy: 0.4477\n",
      "Epoch 14/20\n",
      "2529/2529 [==============================] - 11s 4ms/step - loss: 0.6686 - accuracy: 0.6634 - val_loss: 2.6154 - val_accuracy: 0.4240\n",
      "Epoch 15/20\n",
      "2529/2529 [==============================] - 13s 5ms/step - loss: 0.6567 - accuracy: 0.6672 - val_loss: 2.7049 - val_accuracy: 0.4334\n",
      "Epoch 16/20\n",
      "2529/2529 [==============================] - 17s 7ms/step - loss: 0.6468 - accuracy: 0.6702 - val_loss: 2.8887 - val_accuracy: 0.4170\n",
      "Epoch 17/20\n",
      "2529/2529 [==============================] - 11s 4ms/step - loss: 0.6394 - accuracy: 0.6770 - val_loss: 2.9494 - val_accuracy: 0.4316\n",
      "Epoch 18/20\n",
      "2529/2529 [==============================] - 12s 5ms/step - loss: 0.6305 - accuracy: 0.6750 - val_loss: 2.9424 - val_accuracy: 0.4214\n",
      "Epoch 19/20\n",
      "2529/2529 [==============================] - 12s 5ms/step - loss: 0.6259 - accuracy: 0.6759 - val_loss: 2.9552 - val_accuracy: 0.4162\n",
      "Epoch 20/20\n",
      "2529/2529 [==============================] - 11s 4ms/step - loss: 0.6184 - accuracy: 0.6792 - val_loss: 2.9966 - val_accuracy: 0.4031\n",
      "Training Accuracy: 0.7047\n",
      "Testing Accuracy:  0.4031\n"
     ]
    }
   ],
   "source": [
    "history=model.fit(X_train,y_train,epochs=20,verbose=True,validation_data=(X_test,y_test),batch_size=16)\n",
    "loss, accuracy = model.evaluate(X_train, y_train, verbose=False)\n",
    "print(\"Training Accuracy: {:.4f}\".format(accuracy))\n",
    "loss, accuracy = model.evaluate(X_test, y_test, verbose=False)\n",
    "print(\"Testing Accuracy:  {:.4f}\".format(accuracy))"
   ]
  },
  {
   "cell_type": "code",
   "execution_count": null,
   "metadata": {},
   "outputs": [],
   "source": []
  }
 ],
 "metadata": {
  "kernelspec": {
   "display_name": "base",
   "language": "python",
   "name": "python3"
  },
  "language_info": {
   "codemirror_mode": {
    "name": "ipython",
    "version": 3
   },
   "file_extension": ".py",
   "mimetype": "text/x-python",
   "name": "python",
   "nbconvert_exporter": "python",
   "pygments_lexer": "ipython3",
   "version": "3.10.10"
  },
  "orig_nbformat": 4
 },
 "nbformat": 4,
 "nbformat_minor": 2
}
